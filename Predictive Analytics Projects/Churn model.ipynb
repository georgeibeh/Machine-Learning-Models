{
 "cells": [
  {
   "cell_type": "code",
   "execution_count": 1,
   "metadata": {
    "collapsed": false
   },
   "outputs": [
    {
     "data": {
      "text/html": [
       "<style>body {\n",
       "    margin: 0;\n",
       "    font-family: Helvetica;\n",
       "}\n",
       "table.dataframe {\n",
       "    border-collapse: collapse;\n",
       "    border: none;\n",
       "}\n",
       "table.dataframe tr {\n",
       "    border: none;\n",
       "}\n",
       "table.dataframe td, table.dataframe th {\n",
       "    margin: 0;\n",
       "    border: 1px solid white;\n",
       "    padding-left: 0.25em;\n",
       "    padding-right: 0.25em;\n",
       "}\n",
       "table.dataframe th:not(:empty) {\n",
       "    background-color: #fec;\n",
       "    text-align: left;\n",
       "    font-weight: normal;\n",
       "}\n",
       "table.dataframe tr:nth-child(2) th:empty {\n",
       "    border-left: none;\n",
       "    border-right: 1px dashed #888;\n",
       "}\n",
       "table.dataframe td {\n",
       "    border: 2px solid #ccf;\n",
       "    background-color: #f4f4ff;\n",
       "}\n",
       "h3 {\n",
       "    color: white;\n",
       "    background-color: black;\n",
       "    padding: 0.5em;\n",
       "}\n",
       "</style>"
      ],
      "text/plain": [
       "<IPython.core.display.HTML object>"
      ]
     },
     "execution_count": 1,
     "metadata": {},
     "output_type": "execute_result"
    }
   ],
   "source": [
    "# Please run this cell for custom formating of notebook cells\n",
    "from IPython.core.display import HTML\n",
    "css = open('style-table.css').read() + open('style-notebook.css').read()\n",
    "HTML('<style>{}</style>'.format(css))"
   ]
  },
  {
   "cell_type": "raw",
   "metadata": {},
   "source": [
    "This notebook contains code and documentation of a customer churn predictive model using a telecommunication company dataset.\n",
    "For the sake of reproducibility, this kernel was writen using the following environmental set up"
   ]
  },
  {
   "cell_type": "markdown",
   "metadata": {},
   "source": [
    "* Python        3.5.2\n",
    "* Cython        0.24.1\n",
    "* Numpy         1.14.2\n",
    "* Pandas        0.20.3\n",
    "* Scikit Learn  0.14.1\n",
    "* Scipy         1.0.1\n",
    "* Seaborn       0.8.1\n",
    "\n"
   ]
  },
  {
   "cell_type": "markdown",
   "metadata": {},
   "source": [
    "### Table Of Contents"
   ]
  },
  {
   "cell_type": "markdown",
   "metadata": {},
   "source": [
    "* Introduction\n",
    "* Loading packages\n",
    "* Loading datasets\n",
    "* Data Exploration/Analysis\n",
    "* Data cleaning and preprocessing\n",
    "* Machine Learning algorithms brawl (Base and Ensemble models)\n",
    "* Algorithm tuning\n",
    "* Ensembles\n",
    "* Saving the model\n",
    "* Making submissions\n",
    "\n",
    "\n"
   ]
  },
  {
   "cell_type": "markdown",
   "metadata": {},
   "source": [
    "### Introduction"
   ]
  },
  {
   "cell_type": "raw",
   "metadata": {},
   "source": [
    "\n",
    "The Motivation of this kernel is to predict high-propensity churners for the telecommunication company to target special retention offers at. Businesses need to minimize these special customer retention efforts. Hence, a clever strategy would be to score every customer with the likelihood of churn and address the most profitable ones. The output of this kernel will be a new CSV file with customerIDs and their predicted churn probabilities appended.\n",
    "\n",
    "The data used to build the model was obtained form kaggle.com as a zip file containing seperate datasets capturing training and test demographic, account information and service preferences data of subscribers of the telecom company. I have performed some data wrangling on this files in order to prepare them for the purpose of prediction. The notebook 'wrangling_data' contains code and documentation used to perform this conversion.\n",
    "\n",
    "To make predictions, im going to be comparing the paerformances of several machine learning algoritms. The model with the most superior positive class recall will be selected as the choice model. The reason for this choice is because we want the model to detect as many relevant cases (in this situiation churners) as possible.\n"
   ]
  },
  {
   "cell_type": "markdown",
   "metadata": {
    "collapsed": true
   },
   "source": [
    "### Loading Packages"
   ]
  },
  {
   "cell_type": "code",
   "execution_count": 2,
   "metadata": {
    "collapsed": true
   },
   "outputs": [],
   "source": [
    "# here's several helpful packages to load in \n",
    "\n",
    "import numpy as np\n",
    "import pandas as pd\n",
    "from pandas import set_option\n",
    "from pandas.tools.plotting import scatter_matrix\n",
    "from sklearn.preprocessing import StandardScaler\n",
    "from sklearn.model_selection import train_test_split, KFold,GridSearchCV, cross_val_score\n",
    "from sklearn.metrics import classification_report ,confusion_matrix ,accuracy_score\n",
    "from sklearn.pipeline import Pipeline\n",
    "from sklearn.linear_model import LogisticRegression\n",
    "from sklearn.tree import DecisionTreeClassifier\n",
    "from sklearn.neighbors import KNeighborsClassifier\n",
    "from sklearn.naive_bayes  import GaussianNB\n",
    "from sklearn.svm import SVC\n",
    "from sklearn.ensemble import AdaBoostClassifier, GradientBoostingClassifier, RandomForestClassifier,ExtraTreesClassifier\n",
    "import sys\n",
    "from IPython.display import display"
   ]
  },
  {
   "cell_type": "markdown",
   "metadata": {},
   "source": [
    "### Load the dataset"
   ]
  },
  {
   "cell_type": "code",
   "execution_count": 4,
   "metadata": {
    "collapsed": true
   },
   "outputs": [],
   "source": [
    "# Function that returns the size of an object in MB\n",
    "def size(obj):\n",
    "    return \"{0:.2f} MB\".format(sys.getsizeof(obj) / (1000 * 1000))"
   ]
  },
  {
   "cell_type": "code",
   "execution_count": 5,
   "metadata": {
    "collapsed": false
   },
   "outputs": [
    {
     "name": "stdout",
     "output_type": "stream",
     "text": [
      "telco -- dimensions: (5298, 25);   size: 3.92 MB\n",
      "test -- dimensions: (1769, 24);   size: 1.25 MB\n"
     ]
    }
   ],
   "source": [
    "telco = pd.read_csv(\"data\\Churn_trian.csv\", index_col=None,  na_values=[\"MISSINGVAL\", 'NA','?'])\n",
    "test = pd.read_csv('data\\Churn_test.csv',index_col=None,  na_values=[\"MISSINGVAL\", 'NA','?'])\n",
    "print('telco -- dimensions: {0};   size: {1}'.format(telco.shape, size(telco)))\n",
    "print('test -- dimensions: {0};   size: {1}'.format(test.shape, size(test)))\n"
   ]
  },
  {
   "cell_type": "code",
   "execution_count": 6,
   "metadata": {
    "collapsed": true
   },
   "outputs": [],
   "source": [
    "set_option('display.max_rows', 500 )\n",
    "set_option('display.width', 100)\n",
    "set_option('precision', 3)"
   ]
  },
  {
   "cell_type": "markdown",
   "metadata": {
    "collapsed": true
   },
   "source": [
    "### Data Exploration/Analysis"
   ]
  },
  {
   "cell_type": "code",
   "execution_count": 7,
   "metadata": {
    "collapsed": false
   },
   "outputs": [
    {
     "data": {
      "text/html": [
       "<div>\n",
       "<style>\n",
       "    .dataframe thead tr:only-child th {\n",
       "        text-align: right;\n",
       "    }\n",
       "\n",
       "    .dataframe thead th {\n",
       "        text-align: left;\n",
       "    }\n",
       "\n",
       "    .dataframe tbody tr th {\n",
       "        vertical-align: top;\n",
       "    }\n",
       "</style>\n",
       "<table border=\"1\" class=\"dataframe\">\n",
       "  <thead>\n",
       "    <tr style=\"text-align: right;\">\n",
       "      <th></th>\n",
       "      <th>CustomerID</th>\n",
       "      <th>Country</th>\n",
       "      <th>State</th>\n",
       "      <th>Retired</th>\n",
       "      <th>HasPartner</th>\n",
       "      <th>HasDependents</th>\n",
       "      <th>Education</th>\n",
       "      <th>Gender</th>\n",
       "      <th>BaseCharges</th>\n",
       "      <th>DOC</th>\n",
       "      <th>...</th>\n",
       "      <th>Multilines</th>\n",
       "      <th>OnlineBackup</th>\n",
       "      <th>InternetServiceCategory</th>\n",
       "      <th>StreamingMovies</th>\n",
       "      <th>OnlineSecurity</th>\n",
       "      <th>DeviceProtection</th>\n",
       "      <th>StreamingTelevision</th>\n",
       "      <th>HasPhoneService</th>\n",
       "      <th>TechnicalSupport</th>\n",
       "      <th>Churn</th>\n",
       "    </tr>\n",
       "  </thead>\n",
       "  <tbody>\n",
       "    <tr>\n",
       "      <th>0</th>\n",
       "      <td>Cust1201</td>\n",
       "      <td>India</td>\n",
       "      <td>Maharashtra</td>\n",
       "      <td>0</td>\n",
       "      <td>2</td>\n",
       "      <td>2</td>\n",
       "      <td>Masters</td>\n",
       "      <td>Male</td>\n",
       "      <td>478.50</td>\n",
       "      <td>5-1-2012</td>\n",
       "      <td>...</td>\n",
       "      <td>No</td>\n",
       "      <td>No</td>\n",
       "      <td>Fiber optic</td>\n",
       "      <td>Yes</td>\n",
       "      <td>No</td>\n",
       "      <td>Yes</td>\n",
       "      <td>Yes</td>\n",
       "      <td>1</td>\n",
       "      <td>No</td>\n",
       "      <td>No</td>\n",
       "    </tr>\n",
       "    <tr>\n",
       "      <th>1</th>\n",
       "      <td>Cust1202</td>\n",
       "      <td>India</td>\n",
       "      <td>Maharashtra</td>\n",
       "      <td>0</td>\n",
       "      <td>2</td>\n",
       "      <td>2</td>\n",
       "      <td>ProfessionalQalification</td>\n",
       "      <td>Male</td>\n",
       "      <td>103.25</td>\n",
       "      <td>5-1-2012</td>\n",
       "      <td>...</td>\n",
       "      <td>No</td>\n",
       "      <td>No internet service</td>\n",
       "      <td>No</td>\n",
       "      <td>No internet service</td>\n",
       "      <td>No internet service</td>\n",
       "      <td>No internet service</td>\n",
       "      <td>No internet service</td>\n",
       "      <td>1</td>\n",
       "      <td>No internet service</td>\n",
       "      <td>No</td>\n",
       "    </tr>\n",
       "    <tr>\n",
       "      <th>2</th>\n",
       "      <td>Cust1203</td>\n",
       "      <td>India</td>\n",
       "      <td>Maharashtra</td>\n",
       "      <td>0</td>\n",
       "      <td>2</td>\n",
       "      <td>2</td>\n",
       "      <td>ProfessionalQalification</td>\n",
       "      <td>Male</td>\n",
       "      <td>399.75</td>\n",
       "      <td>5-1-2012</td>\n",
       "      <td>...</td>\n",
       "      <td>No</td>\n",
       "      <td>No</td>\n",
       "      <td>Fiber optic</td>\n",
       "      <td>Yes</td>\n",
       "      <td>No</td>\n",
       "      <td>No</td>\n",
       "      <td>No</td>\n",
       "      <td>1</td>\n",
       "      <td>No</td>\n",
       "      <td>No</td>\n",
       "    </tr>\n",
       "  </tbody>\n",
       "</table>\n",
       "<p>3 rows × 25 columns</p>\n",
       "</div>"
      ],
      "text/plain": [
       "  CustomerID Country        State  Retired  HasPartner  HasDependents                 Education  \\\n",
       "0   Cust1201   India  Maharashtra        0           2              2                   Masters   \n",
       "1   Cust1202   India  Maharashtra        0           2              2  ProfessionalQalification   \n",
       "2   Cust1203   India  Maharashtra        0           2              2  ProfessionalQalification   \n",
       "\n",
       "  Gender  BaseCharges       DOC  ...   Multilines         OnlineBackup InternetServiceCategory  \\\n",
       "0   Male       478.50  5-1-2012  ...           No                   No             Fiber optic   \n",
       "1   Male       103.25  5-1-2012  ...           No  No internet service                      No   \n",
       "2   Male       399.75  5-1-2012  ...           No                   No             Fiber optic   \n",
       "\n",
       "       StreamingMovies       OnlineSecurity     DeviceProtection  StreamingTelevision  \\\n",
       "0                  Yes                   No                  Yes                  Yes   \n",
       "1  No internet service  No internet service  No internet service  No internet service   \n",
       "2                  Yes                   No                   No                   No   \n",
       "\n",
       "  HasPhoneService     TechnicalSupport Churn  \n",
       "0               1                   No    No  \n",
       "1               1  No internet service    No  \n",
       "2               1                   No    No  \n",
       "\n",
       "[3 rows x 25 columns]"
      ]
     },
     "execution_count": 7,
     "metadata": {},
     "output_type": "execute_result"
    }
   ],
   "source": [
    "# Head\n",
    "telco.head(3)"
   ]
  },
  {
   "cell_type": "code",
   "execution_count": 8,
   "metadata": {
    "collapsed": false
   },
   "outputs": [
    {
     "name": "stdout",
     "output_type": "stream",
     "text": [
      "<class 'pandas.core.frame.DataFrame'>\n",
      "RangeIndex: 5298 entries, 0 to 5297\n",
      "Data columns (total 25 columns):\n",
      "CustomerID                 5298 non-null object\n",
      "Country                    5293 non-null object\n",
      "State                      5290 non-null object\n",
      "Retired                    5298 non-null int64\n",
      "HasPartner                 5298 non-null int64\n",
      "HasDependents              5298 non-null int64\n",
      "Education                  5288 non-null object\n",
      "Gender                     5294 non-null object\n",
      "BaseCharges                5298 non-null float64\n",
      "DOC                        5298 non-null object\n",
      "TotalCharges               5288 non-null float64\n",
      "DOE                        5298 non-null object\n",
      "ElectronicBilling          5298 non-null object\n",
      "ContractType               5293 non-null object\n",
      "PaymentMethod              5298 non-null object\n",
      "Multilines                 5298 non-null object\n",
      "OnlineBackup               5298 non-null object\n",
      "InternetServiceCategory    5298 non-null object\n",
      "StreamingMovies            5298 non-null object\n",
      "OnlineSecurity             5298 non-null object\n",
      "DeviceProtection           5298 non-null object\n",
      "StreamingTelevision        5298 non-null object\n",
      "HasPhoneService            5298 non-null int64\n",
      "TechnicalSupport           5298 non-null object\n",
      "Churn                      5298 non-null object\n",
      "dtypes: float64(2), int64(4), object(19)\n",
      "memory usage: 641.6+ KB\n",
      "None\n"
     ]
    }
   ],
   "source": [
    "# some info please\n",
    "print(telco.info())"
   ]
  },
  {
   "cell_type": "markdown",
   "metadata": {},
   "source": [
    "from the result, it is clear that alot of features need to be converted to numeric form for the machine learning algorithms to function hitch-free"
   ]
  },
  {
   "cell_type": "code",
   "execution_count": 9,
   "metadata": {
    "collapsed": false
   },
   "outputs": [
    {
     "data": {
      "text/plain": [
       "Education                  10\n",
       "TotalCharges               10\n",
       "State                       8\n",
       "Country                     5\n",
       "ContractType                5\n",
       "Gender                      4\n",
       "Churn                       0\n",
       "DOE                         0\n",
       "Retired                     0\n",
       "HasPartner                  0\n",
       "HasDependents               0\n",
       "BaseCharges                 0\n",
       "DOC                         0\n",
       "ElectronicBilling           0\n",
       "TechnicalSupport            0\n",
       "PaymentMethod               0\n",
       "Multilines                  0\n",
       "OnlineBackup                0\n",
       "InternetServiceCategory     0\n",
       "StreamingMovies             0\n",
       "OnlineSecurity              0\n",
       "DeviceProtection            0\n",
       "StreamingTelevision         0\n",
       "HasPhoneService             0\n",
       "CustomerID                  0\n",
       "dtype: int64"
      ]
     },
     "execution_count": 9,
     "metadata": {},
     "output_type": "execute_result"
    }
   ],
   "source": [
    "# Checking for variables with missing values in descending order\n",
    "telco.isnull().sum().sort_values(ascending=False)"
   ]
  },
  {
   "cell_type": "markdown",
   "metadata": {},
   "source": [
    "As seen, there are few features with missing values. i'll fill in the missing values with the appriate strategy later on"
   ]
  },
  {
   "cell_type": "code",
   "execution_count": 10,
   "metadata": {
    "collapsed": false
   },
   "outputs": [
    {
     "data": {
      "text/plain": [
       "No     0.75\n",
       "Yes    0.25\n",
       "Name: Churn, dtype: float64"
      ]
     },
     "execution_count": 10,
     "metadata": {},
     "output_type": "execute_result"
    }
   ],
   "source": [
    "# Checking and visualizing target class distribution\n",
    "telco.Churn.value_counts(normalize=True)"
   ]
  },
  {
   "cell_type": "code",
   "execution_count": 11,
   "metadata": {
    "collapsed": false
   },
   "outputs": [
    {
     "data": {
      "text/plain": [
       "<matplotlib.axes._subplots.AxesSubplot at 0x868f790>"
      ]
     },
     "execution_count": 11,
     "metadata": {},
     "output_type": "execute_result"
    },
    {
     "data": {
      "image/png": "[encoded data removed]",
      "text/plain": [
       "<matplotlib.figure.Figure at 0x86406d0>"
      ]
     },
     "metadata": {},
     "output_type": "display_data"
    }
   ],
   "source": [
    "import matplotlib.pyplot as plt\n",
    "plt.style.use('bmh')\n",
    "%matplotlib inline\n",
    "telco.Churn.value_counts().plot(kind='bar')"
   ]
  },
  {
   "cell_type": "markdown",
   "metadata": {},
   "source": [
    "There is visible class imbalance here. Therefore, in order to prevent the model from being biased in favour of the majority class, i will oversample the minority class and undersample the majority class using the SMOTEN library"
   ]
  },
  {
   "cell_type": "code",
   "execution_count": 12,
   "metadata": {
    "collapsed": true
   },
   "outputs": [],
   "source": [
    "floats = telco.select_dtypes(include=['float', 'int'])"
   ]
  },
  {
   "cell_type": "code",
   "execution_count": 13,
   "metadata": {
    "collapsed": false
   },
   "outputs": [
    {
     "data": {
      "text/plain": [
       "array([[<matplotlib.axes._subplots.AxesSubplot object at 0x086D6110>,\n",
       "        <matplotlib.axes._subplots.AxesSubplot object at 0x08741E70>]], dtype=object)"
      ]
     },
     "execution_count": 13,
     "metadata": {},
     "output_type": "execute_result"
    },
    {
     "data": {
      "image/png": "[encoded data removed]",
      "text/plain": [
       "<matplotlib.figure.Figure at 0x86dbd10>"
      ]
     },
     "metadata": {},
     "output_type": "display_data"
    }
   ],
   "source": [
    "# histograms \n",
    "floats.hist(sharex=False, sharey = False, xlabelsize=1, ylabelsize=1, figsize=(8,4))"
   ]
  },
  {
   "cell_type": "code",
   "execution_count": 14,
   "metadata": {
    "collapsed": false
   },
   "outputs": [
    {
     "data": {
      "text/html": [
       "<div>\n",
       "<style>\n",
       "    .dataframe thead tr:only-child th {\n",
       "        text-align: right;\n",
       "    }\n",
       "\n",
       "    .dataframe thead th {\n",
       "        text-align: left;\n",
       "    }\n",
       "\n",
       "    .dataframe tbody tr th {\n",
       "        vertical-align: top;\n",
       "    }\n",
       "</style>\n",
       "<table border=\"1\" class=\"dataframe\">\n",
       "  <thead>\n",
       "    <tr style=\"text-align: right;\">\n",
       "      <th></th>\n",
       "      <th>count</th>\n",
       "      <th>mean</th>\n",
       "      <th>std</th>\n",
       "      <th>min</th>\n",
       "      <th>25%</th>\n",
       "      <th>50%</th>\n",
       "      <th>75%</th>\n",
       "      <th>max</th>\n",
       "    </tr>\n",
       "  </thead>\n",
       "  <tbody>\n",
       "    <tr>\n",
       "      <th>BaseCharges</th>\n",
       "      <td>5298.0</td>\n",
       "      <td>325.467</td>\n",
       "      <td>151.353</td>\n",
       "      <td>91.25</td>\n",
       "      <td>178.250</td>\n",
       "      <td>352.5</td>\n",
       "      <td>451.250</td>\n",
       "      <td>593.75</td>\n",
       "    </tr>\n",
       "    <tr>\n",
       "      <th>TotalCharges</th>\n",
       "      <td>5288.0</td>\n",
       "      <td>11928.354</td>\n",
       "      <td>11486.453</td>\n",
       "      <td>94.25</td>\n",
       "      <td>2314.938</td>\n",
       "      <td>7377.5</td>\n",
       "      <td>19992.812</td>\n",
       "      <td>43424.00</td>\n",
       "    </tr>\n",
       "  </tbody>\n",
       "</table>\n",
       "</div>"
      ],
      "text/plain": [
       "               count       mean        std    min       25%     50%        75%       max\n",
       "BaseCharges   5298.0    325.467    151.353  91.25   178.250   352.5    451.250    593.75\n",
       "TotalCharges  5288.0  11928.354  11486.453  94.25  2314.938  7377.5  19992.812  43424.00"
      ]
     },
     "execution_count": 14,
     "metadata": {},
     "output_type": "execute_result"
    }
   ],
   "source": [
    "floats.describe().T"
   ]
  },
  {
   "cell_type": "markdown",
   "metadata": {},
   "source": [
    "The TotalCharges feature has a clear asymmetric distribution and both numerical features have very wide range in their values. The machine learning models will definately benefit from standardizing this features."
   ]
  },
  {
   "cell_type": "code",
   "execution_count": 15,
   "metadata": {
    "collapsed": false
   },
   "outputs": [
    {
     "data": {
      "text/html": [
       "<div>\n",
       "<style>\n",
       "    .dataframe thead tr:only-child th {\n",
       "        text-align: right;\n",
       "    }\n",
       "\n",
       "    .dataframe thead th {\n",
       "        text-align: left;\n",
       "    }\n",
       "\n",
       "    .dataframe tbody tr th {\n",
       "        vertical-align: top;\n",
       "    }\n",
       "</style>\n",
       "<table border=\"1\" class=\"dataframe\">\n",
       "  <thead>\n",
       "    <tr style=\"text-align: right;\">\n",
       "      <th></th>\n",
       "      <th>count</th>\n",
       "      <th>unique</th>\n",
       "      <th>top</th>\n",
       "      <th>freq</th>\n",
       "    </tr>\n",
       "  </thead>\n",
       "  <tbody>\n",
       "    <tr>\n",
       "      <th>CustomerID</th>\n",
       "      <td>5298</td>\n",
       "      <td>5298</td>\n",
       "      <td>Cust1555</td>\n",
       "      <td>1</td>\n",
       "    </tr>\n",
       "    <tr>\n",
       "      <th>Country</th>\n",
       "      <td>5293</td>\n",
       "      <td>1</td>\n",
       "      <td>India</td>\n",
       "      <td>5293</td>\n",
       "    </tr>\n",
       "    <tr>\n",
       "      <th>State</th>\n",
       "      <td>5290</td>\n",
       "      <td>1</td>\n",
       "      <td>Maharashtra</td>\n",
       "      <td>5290</td>\n",
       "    </tr>\n",
       "    <tr>\n",
       "      <th>Education</th>\n",
       "      <td>5288</td>\n",
       "      <td>5</td>\n",
       "      <td>Highschool or below</td>\n",
       "      <td>1426</td>\n",
       "    </tr>\n",
       "    <tr>\n",
       "      <th>Gender</th>\n",
       "      <td>5294</td>\n",
       "      <td>2</td>\n",
       "      <td>Male</td>\n",
       "      <td>2656</td>\n",
       "    </tr>\n",
       "    <tr>\n",
       "      <th>DOC</th>\n",
       "      <td>5298</td>\n",
       "      <td>1</td>\n",
       "      <td>5-1-2012</td>\n",
       "      <td>5298</td>\n",
       "    </tr>\n",
       "    <tr>\n",
       "      <th>DOE</th>\n",
       "      <td>5298</td>\n",
       "      <td>73</td>\n",
       "      <td>6-Dec-11</td>\n",
       "      <td>423</td>\n",
       "    </tr>\n",
       "    <tr>\n",
       "      <th>ElectronicBilling</th>\n",
       "      <td>5298</td>\n",
       "      <td>2</td>\n",
       "      <td>Yes</td>\n",
       "      <td>3120</td>\n",
       "    </tr>\n",
       "    <tr>\n",
       "      <th>ContractType</th>\n",
       "      <td>5293</td>\n",
       "      <td>3</td>\n",
       "      <td>Month-to-month</td>\n",
       "      <td>2779</td>\n",
       "    </tr>\n",
       "    <tr>\n",
       "      <th>PaymentMethod</th>\n",
       "      <td>5298</td>\n",
       "      <td>4</td>\n",
       "      <td>Electronic check</td>\n",
       "      <td>1586</td>\n",
       "    </tr>\n",
       "    <tr>\n",
       "      <th>Multilines</th>\n",
       "      <td>5298</td>\n",
       "      <td>3</td>\n",
       "      <td>No</td>\n",
       "      <td>2491</td>\n",
       "    </tr>\n",
       "    <tr>\n",
       "      <th>OnlineBackup</th>\n",
       "      <td>5298</td>\n",
       "      <td>3</td>\n",
       "      <td>No</td>\n",
       "      <td>2270</td>\n",
       "    </tr>\n",
       "    <tr>\n",
       "      <th>InternetServiceCategory</th>\n",
       "      <td>5298</td>\n",
       "      <td>3</td>\n",
       "      <td>Fiber optic</td>\n",
       "      <td>2313</td>\n",
       "    </tr>\n",
       "    <tr>\n",
       "      <th>StreamingMovies</th>\n",
       "      <td>5298</td>\n",
       "      <td>3</td>\n",
       "      <td>Yes</td>\n",
       "      <td>2075</td>\n",
       "    </tr>\n",
       "    <tr>\n",
       "      <th>OnlineSecurity</th>\n",
       "      <td>5298</td>\n",
       "      <td>3</td>\n",
       "      <td>No</td>\n",
       "      <td>2569</td>\n",
       "    </tr>\n",
       "    <tr>\n",
       "      <th>DeviceProtection</th>\n",
       "      <td>5298</td>\n",
       "      <td>3</td>\n",
       "      <td>No</td>\n",
       "      <td>2253</td>\n",
       "    </tr>\n",
       "    <tr>\n",
       "      <th>StreamingTelevision</th>\n",
       "      <td>5298</td>\n",
       "      <td>3</td>\n",
       "      <td>Yes</td>\n",
       "      <td>2075</td>\n",
       "    </tr>\n",
       "    <tr>\n",
       "      <th>TechnicalSupport</th>\n",
       "      <td>5298</td>\n",
       "      <td>3</td>\n",
       "      <td>No</td>\n",
       "      <td>2537</td>\n",
       "    </tr>\n",
       "    <tr>\n",
       "      <th>Churn</th>\n",
       "      <td>5298</td>\n",
       "      <td>2</td>\n",
       "      <td>No</td>\n",
       "      <td>3974</td>\n",
       "    </tr>\n",
       "  </tbody>\n",
       "</table>\n",
       "</div>"
      ],
      "text/plain": [
       "                        count unique                  top  freq\n",
       "CustomerID               5298   5298             Cust1555     1\n",
       "Country                  5293      1                India  5293\n",
       "State                    5290      1          Maharashtra  5290\n",
       "Education                5288      5  Highschool or below  1426\n",
       "Gender                   5294      2                 Male  2656\n",
       "DOC                      5298      1             5-1-2012  5298\n",
       "DOE                      5298     73             6-Dec-11   423\n",
       "ElectronicBilling        5298      2                  Yes  3120\n",
       "ContractType             5293      3       Month-to-month  2779\n",
       "PaymentMethod            5298      4     Electronic check  1586\n",
       "Multilines               5298      3                   No  2491\n",
       "OnlineBackup             5298      3                   No  2270\n",
       "InternetServiceCategory  5298      3          Fiber optic  2313\n",
       "StreamingMovies          5298      3                  Yes  2075\n",
       "OnlineSecurity           5298      3                   No  2569\n",
       "DeviceProtection         5298      3                   No  2253\n",
       "StreamingTelevision      5298      3                  Yes  2075\n",
       "TechnicalSupport         5298      3                   No  2537\n",
       "Churn                    5298      2                   No  3974"
      ]
     },
     "execution_count": 15,
     "metadata": {},
     "output_type": "execute_result"
    }
   ],
   "source": [
    "# Statistical summary of categorical features\n",
    "set_option('precision', 3)\n",
    "telco.describe(include=[np.object, pd.Categorical]).T"
   ]
  },
  {
   "cell_type": "markdown",
   "metadata": {},
   "source": [
    "### Data Preprocessing and Cleaning"
   ]
  },
  {
   "cell_type": "markdown",
   "metadata": {},
   "source": [
    "#### Missing Values"
   ]
  },
  {
   "cell_type": "markdown",
   "metadata": {},
   "source": [
    "Now we can tackle the issue with the TotalCharges features missing values. I will create an array that contains random numbers, which are computed based on the mean Total charge value in regards to the standard deviation and is_null"
   ]
  },
  {
   "cell_type": "code",
   "execution_count": 16,
   "metadata": {
    "collapsed": false
   },
   "outputs": [],
   "source": [
    "data = [telco, test]\n",
    "\n",
    "for dataset in data:\n",
    "    mean = telco[\"TotalCharges\"].mean()\n",
    "    std = test[\"TotalCharges\"].std()\n",
    "    is_null = dataset[\"TotalCharges\"].isnull().sum()\n",
    "    # compute random numbers between the mean, std and is_null\n",
    "    rand_charge = np.random.randint(mean - std, mean + std, size = is_null)\n",
    "    # fill NaN values in Totalcharges column with random values generated\n",
    "    charges = dataset[\"TotalCharges\"].copy()\n",
    "    charges[np.isnan(charges)] = rand_charge\n",
    "    dataset[\"TotalCharges\"] = charges"
   ]
  },
  {
   "cell_type": "code",
   "execution_count": 17,
   "metadata": {
    "collapsed": false
   },
   "outputs": [],
   "source": [
    "# filling Gender, ContractType, Education\n",
    "data = [telco, test]\n",
    "for dataset in data:\n",
    "    dataset.Gender.fillna('Male', inplace=True)\n",
    "    dataset.ContractType.fillna('Month-to-month',inplace=True)\n",
    "    dataset.Education.fillna('Other', inplace=True)"
   ]
  },
  {
   "cell_type": "markdown",
   "metadata": {},
   "source": [
    "#### Dropping non informative features"
   ]
  },
  {
   "cell_type": "code",
   "execution_count": 18,
   "metadata": {
    "collapsed": false
   },
   "outputs": [],
   "source": [
    "data = [telco, test]\n",
    "for dataset in data:\n",
    "        dataset.drop(['Country','State','CustomerID'], axis=1, inplace=True)"
   ]
  },
  {
   "cell_type": "markdown",
   "metadata": {},
   "source": [
    "#### Label Encoding"
   ]
  },
  {
   "cell_type": "code",
   "execution_count": 19,
   "metadata": {
    "collapsed": true
   },
   "outputs": [],
   "source": [
    "# Education\n",
    "data = [telco, test]\n",
    "for dataset in data:\n",
    "    cadre = {\"Highschool or below\": 1, \"Graduation\": 2, \"ProfessionalQalification\": 3, \"Masters\": 4, \"Other\": 5}\n",
    "    dataset['Education'] = dataset['Education'].map(cadre)\n"
   ]
  },
  {
   "cell_type": "code",
   "execution_count": 20,
   "metadata": {
    "collapsed": false
   },
   "outputs": [
    {
     "data": {
      "text/plain": [
       "Male      2660\n",
       "Female    2638\n",
       "Name: Gender, dtype: int64"
      ]
     },
     "execution_count": 20,
     "metadata": {},
     "output_type": "execute_result"
    }
   ],
   "source": [
    "telco.Gender.value_counts()"
   ]
  },
  {
   "cell_type": "code",
   "execution_count": 21,
   "metadata": {
    "collapsed": true
   },
   "outputs": [],
   "source": [
    "# Gender\n",
    "data = [telco, test]\n",
    "for dataset in data:\n",
    "    gender = {\"Male\": 1, \"Female\": 0}\n",
    "    dataset['Gender'] = dataset['Gender'].map(gender)"
   ]
  },
  {
   "cell_type": "markdown",
   "metadata": {},
   "source": [
    "#### Converting to datetime object"
   ]
  },
  {
   "cell_type": "code",
   "execution_count": 22,
   "metadata": {
    "collapsed": true
   },
   "outputs": [],
   "source": [
    "for dataset in data:\n",
    "    dataset['DOE'] = pd.to_datetime(dataset['DOE'], dayfirst=True)\n",
    "    dataset['DOC'] = pd.to_datetime(dataset['DOC'],dayfirst=True)"
   ]
  },
  {
   "cell_type": "markdown",
   "metadata": {},
   "source": [
    "#### Creating a new feature to capture the timedelta between DOE and DOC"
   ]
  },
  {
   "cell_type": "code",
   "execution_count": 23,
   "metadata": {
    "collapsed": false
   },
   "outputs": [],
   "source": [
    "for dataset in data:\n",
    "    dataset['Duration'] = dataset['DOC'] - dataset['DOE']"
   ]
  },
  {
   "cell_type": "code",
   "execution_count": 24,
   "metadata": {
    "collapsed": false,
    "scrolled": true
   },
   "outputs": [
    {
     "data": {
      "text/html": [
       "<div>\n",
       "<style>\n",
       "    .dataframe thead tr:only-child th {\n",
       "        text-align: right;\n",
       "    }\n",
       "\n",
       "    .dataframe thead th {\n",
       "        text-align: left;\n",
       "    }\n",
       "\n",
       "    .dataframe tbody tr th {\n",
       "        vertical-align: top;\n",
       "    }\n",
       "</style>\n",
       "<table border=\"1\" class=\"dataframe\">\n",
       "  <thead>\n",
       "    <tr style=\"text-align: right;\">\n",
       "      <th></th>\n",
       "      <th>Retired</th>\n",
       "      <th>HasPartner</th>\n",
       "      <th>HasDependents</th>\n",
       "      <th>Education</th>\n",
       "      <th>Gender</th>\n",
       "      <th>BaseCharges</th>\n",
       "      <th>DOC</th>\n",
       "      <th>TotalCharges</th>\n",
       "      <th>DOE</th>\n",
       "      <th>ElectronicBilling</th>\n",
       "      <th>...</th>\n",
       "      <th>OnlineBackup</th>\n",
       "      <th>InternetServiceCategory</th>\n",
       "      <th>StreamingMovies</th>\n",
       "      <th>OnlineSecurity</th>\n",
       "      <th>DeviceProtection</th>\n",
       "      <th>StreamingTelevision</th>\n",
       "      <th>HasPhoneService</th>\n",
       "      <th>TechnicalSupport</th>\n",
       "      <th>Churn</th>\n",
       "      <th>Duration</th>\n",
       "    </tr>\n",
       "  </thead>\n",
       "  <tbody>\n",
       "    <tr>\n",
       "      <th>0</th>\n",
       "      <td>0</td>\n",
       "      <td>2</td>\n",
       "      <td>2</td>\n",
       "      <td>4</td>\n",
       "      <td>1</td>\n",
       "      <td>478.50</td>\n",
       "      <td>2012-01-05</td>\n",
       "      <td>5920.00</td>\n",
       "      <td>2011-01-10</td>\n",
       "      <td>No</td>\n",
       "      <td>...</td>\n",
       "      <td>No</td>\n",
       "      <td>Fiber optic</td>\n",
       "      <td>Yes</td>\n",
       "      <td>No</td>\n",
       "      <td>Yes</td>\n",
       "      <td>Yes</td>\n",
       "      <td>1</td>\n",
       "      <td>No</td>\n",
       "      <td>No</td>\n",
       "      <td>360 days</td>\n",
       "    </tr>\n",
       "    <tr>\n",
       "      <th>1</th>\n",
       "      <td>0</td>\n",
       "      <td>2</td>\n",
       "      <td>2</td>\n",
       "      <td>3</td>\n",
       "      <td>1</td>\n",
       "      <td>103.25</td>\n",
       "      <td>2012-01-05</td>\n",
       "      <td>103.25</td>\n",
       "      <td>2011-12-06</td>\n",
       "      <td>No</td>\n",
       "      <td>...</td>\n",
       "      <td>No internet service</td>\n",
       "      <td>No</td>\n",
       "      <td>No internet service</td>\n",
       "      <td>No internet service</td>\n",
       "      <td>No internet service</td>\n",
       "      <td>No internet service</td>\n",
       "      <td>1</td>\n",
       "      <td>No internet service</td>\n",
       "      <td>No</td>\n",
       "      <td>30 days</td>\n",
       "    </tr>\n",
       "    <tr>\n",
       "      <th>2</th>\n",
       "      <td>0</td>\n",
       "      <td>2</td>\n",
       "      <td>2</td>\n",
       "      <td>3</td>\n",
       "      <td>1</td>\n",
       "      <td>399.75</td>\n",
       "      <td>2012-01-05</td>\n",
       "      <td>5217.00</td>\n",
       "      <td>2011-01-10</td>\n",
       "      <td>Yes</td>\n",
       "      <td>...</td>\n",
       "      <td>No</td>\n",
       "      <td>Fiber optic</td>\n",
       "      <td>Yes</td>\n",
       "      <td>No</td>\n",
       "      <td>No</td>\n",
       "      <td>No</td>\n",
       "      <td>1</td>\n",
       "      <td>No</td>\n",
       "      <td>No</td>\n",
       "      <td>360 days</td>\n",
       "    </tr>\n",
       "    <tr>\n",
       "      <th>3</th>\n",
       "      <td>0</td>\n",
       "      <td>2</td>\n",
       "      <td>1</td>\n",
       "      <td>3</td>\n",
       "      <td>1</td>\n",
       "      <td>324.75</td>\n",
       "      <td>2012-01-05</td>\n",
       "      <td>22757.50</td>\n",
       "      <td>2006-04-06</td>\n",
       "      <td>No</td>\n",
       "      <td>...</td>\n",
       "      <td>Yes</td>\n",
       "      <td>DSL</td>\n",
       "      <td>No</td>\n",
       "      <td>Yes</td>\n",
       "      <td>No</td>\n",
       "      <td>No</td>\n",
       "      <td>1</td>\n",
       "      <td>Yes</td>\n",
       "      <td>No</td>\n",
       "      <td>2100 days</td>\n",
       "    </tr>\n",
       "    <tr>\n",
       "      <th>4</th>\n",
       "      <td>0</td>\n",
       "      <td>2</td>\n",
       "      <td>2</td>\n",
       "      <td>3</td>\n",
       "      <td>0</td>\n",
       "      <td>372.50</td>\n",
       "      <td>2012-01-05</td>\n",
       "      <td>372.50</td>\n",
       "      <td>2011-12-06</td>\n",
       "      <td>Yes</td>\n",
       "      <td>...</td>\n",
       "      <td>No</td>\n",
       "      <td>Fiber optic</td>\n",
       "      <td>No</td>\n",
       "      <td>No</td>\n",
       "      <td>No</td>\n",
       "      <td>No</td>\n",
       "      <td>1</td>\n",
       "      <td>No</td>\n",
       "      <td>Yes</td>\n",
       "      <td>30 days</td>\n",
       "    </tr>\n",
       "  </tbody>\n",
       "</table>\n",
       "<p>5 rows × 23 columns</p>\n",
       "</div>"
      ],
      "text/plain": [
       "   Retired  HasPartner  HasDependents  Education  Gender  BaseCharges        DOC  TotalCharges  \\\n",
       "0        0           2              2          4       1       478.50 2012-01-05       5920.00   \n",
       "1        0           2              2          3       1       103.25 2012-01-05        103.25   \n",
       "2        0           2              2          3       1       399.75 2012-01-05       5217.00   \n",
       "3        0           2              1          3       1       324.75 2012-01-05      22757.50   \n",
       "4        0           2              2          3       0       372.50 2012-01-05        372.50   \n",
       "\n",
       "         DOE ElectronicBilling    ...            OnlineBackup InternetServiceCategory  \\\n",
       "0 2011-01-10                No    ...                      No             Fiber optic   \n",
       "1 2011-12-06                No    ...     No internet service                      No   \n",
       "2 2011-01-10               Yes    ...                      No             Fiber optic   \n",
       "3 2006-04-06                No    ...                     Yes                     DSL   \n",
       "4 2011-12-06               Yes    ...                      No             Fiber optic   \n",
       "\n",
       "       StreamingMovies       OnlineSecurity     DeviceProtection  StreamingTelevision  \\\n",
       "0                  Yes                   No                  Yes                  Yes   \n",
       "1  No internet service  No internet service  No internet service  No internet service   \n",
       "2                  Yes                   No                   No                   No   \n",
       "3                   No                  Yes                   No                   No   \n",
       "4                   No                   No                   No                   No   \n",
       "\n",
       "  HasPhoneService     TechnicalSupport Churn  Duration  \n",
       "0               1                   No    No  360 days  \n",
       "1               1  No internet service    No   30 days  \n",
       "2               1                   No    No  360 days  \n",
       "3               1                  Yes    No 2100 days  \n",
       "4               1                   No   Yes   30 days  \n",
       "\n",
       "[5 rows x 23 columns]"
      ]
     },
     "execution_count": 24,
     "metadata": {},
     "output_type": "execute_result"
    }
   ],
   "source": [
    "telco.head()"
   ]
  },
  {
   "cell_type": "markdown",
   "metadata": {},
   "source": [
    "Now i have to convert the newly created 'Duration' feature to numeric datatype"
   ]
  },
  {
   "cell_type": "code",
   "execution_count": 25,
   "metadata": {
    "collapsed": true
   },
   "outputs": [],
   "source": [
    "telco['Duration'] = pd.to_numeric(telco['Duration'])"
   ]
  },
  {
   "cell_type": "code",
   "execution_count": 26,
   "metadata": {
    "collapsed": true
   },
   "outputs": [],
   "source": [
    "test['Duration'] = pd.to_numeric(test['Duration'])"
   ]
  },
  {
   "cell_type": "code",
   "execution_count": 27,
   "metadata": {
    "collapsed": false
   },
   "outputs": [
    {
     "name": "stdout",
     "output_type": "stream",
     "text": [
      "<class 'pandas.core.frame.DataFrame'>\n",
      "RangeIndex: 5298 entries, 0 to 5297\n",
      "Data columns (total 23 columns):\n",
      "Retired                    5298 non-null int64\n",
      "HasPartner                 5298 non-null int64\n",
      "HasDependents              5298 non-null int64\n",
      "Education                  5298 non-null int64\n",
      "Gender                     5298 non-null int64\n",
      "BaseCharges                5298 non-null float64\n",
      "DOC                        5298 non-null datetime64[ns]\n",
      "TotalCharges               5298 non-null float64\n",
      "DOE                        5298 non-null datetime64[ns]\n",
      "ElectronicBilling          5298 non-null object\n",
      "ContractType               5298 non-null object\n",
      "PaymentMethod              5298 non-null object\n",
      "Multilines                 5298 non-null object\n",
      "OnlineBackup               5298 non-null object\n",
      "InternetServiceCategory    5298 non-null object\n",
      "StreamingMovies            5298 non-null object\n",
      "OnlineSecurity             5298 non-null object\n",
      "DeviceProtection           5298 non-null object\n",
      "StreamingTelevision        5298 non-null object\n",
      "HasPhoneService            5298 non-null int64\n",
      "TechnicalSupport           5298 non-null object\n",
      "Churn                      5298 non-null object\n",
      "Duration                   5298 non-null int64\n",
      "dtypes: datetime64[ns](2), float64(2), int64(7), object(12)\n",
      "memory usage: 703.7+ KB\n"
     ]
    }
   ],
   "source": [
    "# some info again for sanity check\n",
    "telco.info()"
   ]
  },
  {
   "cell_type": "markdown",
   "metadata": {},
   "source": [
    "I can now do away with both DOC and DOE"
   ]
  },
  {
   "cell_type": "code",
   "execution_count": 28,
   "metadata": {
    "collapsed": true
   },
   "outputs": [],
   "source": [
    "for dataset in data:\n",
    "    dataset.drop(['DOC','DOE'], axis=1, inplace=True)"
   ]
  },
  {
   "cell_type": "markdown",
   "metadata": {},
   "source": [
    "#### Label Ecoding"
   ]
  },
  {
   "cell_type": "code",
   "execution_count": 29,
   "metadata": {
    "collapsed": false
   },
   "outputs": [
    {
     "data": {
      "text/plain": [
       "Yes    3120\n",
       "No     2178\n",
       "Name: ElectronicBilling, dtype: int64"
      ]
     },
     "execution_count": 29,
     "metadata": {},
     "output_type": "execute_result"
    }
   ],
   "source": [
    "telco.ElectronicBilling.value_counts()"
   ]
  },
  {
   "cell_type": "code",
   "execution_count": 30,
   "metadata": {
    "collapsed": true
   },
   "outputs": [],
   "source": [
    "# ElectronicBilling\n",
    "for dataset in data:\n",
    "    billing = {\"Yes\": 1, \"No\": 0}\n",
    "    dataset['ElectronicBilling'] = dataset['ElectronicBilling'].map(billing)"
   ]
  },
  {
   "cell_type": "code",
   "execution_count": 31,
   "metadata": {
    "collapsed": true
   },
   "outputs": [],
   "source": [
    "# churn\n",
    "churnn = {\"Yes\": 1, \"No\": 0}\n",
    "telco['Churn'] = telco['Churn'].map(churnn)"
   ]
  },
  {
   "cell_type": "markdown",
   "metadata": {},
   "source": [
    "Here i will be seperating the target class from the rest of the features"
   ]
  },
  {
   "cell_type": "code",
   "execution_count": 32,
   "metadata": {
    "collapsed": true
   },
   "outputs": [],
   "source": [
    "telco_data = telco.drop('Churn', axis=1)\n",
    "churn = telco['Churn']"
   ]
  },
  {
   "cell_type": "markdown",
   "metadata": {},
   "source": [
    "#### Transformation"
   ]
  },
  {
   "cell_type": "markdown",
   "metadata": {},
   "source": [
    "Applying logarithm transformation to the TotalCharges feature which has a very strong right skew."
   ]
  },
  {
   "cell_type": "code",
   "execution_count": 33,
   "metadata": {
    "collapsed": false
   },
   "outputs": [],
   "source": [
    "data =[telco_data,test]\n",
    "for dataset in data:\n",
    "    vals = dataset['TotalCharges'].values\n",
    "    dataset['TotalCharges'] = np.log(vals+1)    "
   ]
  },
  {
   "cell_type": "code",
   "execution_count": 34,
   "metadata": {
    "collapsed": false
   },
   "outputs": [
    {
     "data": {
      "text/plain": [
       "<matplotlib.axes._subplots.AxesSubplot at 0x873d950>"
      ]
     },
     "execution_count": 34,
     "metadata": {},
     "output_type": "execute_result"
    },
    {
     "data": {
      "image/png": "[encoded data removed]",
      "text/plain": [
       "<matplotlib.figure.Figure at 0x8a55fd0>"
      ]
     },
     "metadata": {},
     "output_type": "display_data"
    }
   ],
   "source": [
    "test['TotalCharges'].hist()"
   ]
  },
  {
   "cell_type": "markdown",
   "metadata": {},
   "source": [
    "#### Dummy encoding nominal features"
   ]
  },
  {
   "cell_type": "code",
   "execution_count": 35,
   "metadata": {
    "collapsed": true
   },
   "outputs": [],
   "source": [
    "telco_dummies = pd.get_dummies(telco_data)\n",
    "test_dummies = pd.get_dummies(test)"
   ]
  },
  {
   "cell_type": "code",
   "execution_count": 36,
   "metadata": {
    "collapsed": false
   },
   "outputs": [
    {
     "name": "stdout",
     "output_type": "stream",
     "text": [
      "train: (5298, 41), test: (1769, 40)\n"
     ]
    }
   ],
   "source": [
    "print('train: {0}, test: {1}'.format(telco_dummies.shape, test_dummies.shape))"
   ]
  },
  {
   "cell_type": "markdown",
   "metadata": {},
   "source": [
    "There is a feature missing in the test set. Therefore, i will compare coulumn names of the training and test set to check for disparity, then append the new feature to the test set populating it with zeros"
   ]
  },
  {
   "cell_type": "code",
   "execution_count": 37,
   "metadata": {
    "collapsed": false
   },
   "outputs": [
    {
     "data": {
      "text/plain": [
       "Index(['Retired', 'HasPartner', 'HasDependents', 'Education', 'Gender', 'BaseCharges',\n",
       "       'TotalCharges', 'ElectronicBilling', 'HasPhoneService', 'Duration',\n",
       "       'ContractType_Month-to-month', 'ContractType_One year', 'ContractType_Two year',\n",
       "       'PaymentMethod_Bank transfer (automatic)', 'PaymentMethod_Electronic check',\n",
       "       'PaymentMethod_Mailed check', 'Multilines_No', 'Multilines_No phone service',\n",
       "       'Multilines_Yes', 'OnlineBackup_No', 'OnlineBackup_No internet service', 'OnlineBackup_Yes',\n",
       "       'InternetServiceCategory_DSL', 'InternetServiceCategory_Fiber optic',\n",
       "       'InternetServiceCategory_No', 'StreamingMovies_No', 'StreamingMovies_No internet service',\n",
       "       'StreamingMovies_Yes', 'OnlineSecurity_No', 'OnlineSecurity_No internet service',\n",
       "       'OnlineSecurity_Yes', 'DeviceProtection_No', 'DeviceProtection_No internet service',\n",
       "       'DeviceProtection_Yes', 'StreamingTelevision_No', 'StreamingTelevision_No internet service',\n",
       "       'StreamingTelevision_Yes', 'TechnicalSupport_No', 'TechnicalSupport_No internet service',\n",
       "       'TechnicalSupport_Yes'],\n",
       "      dtype='object')"
      ]
     },
     "execution_count": 37,
     "metadata": {},
     "output_type": "execute_result"
    }
   ],
   "source": [
    "test_dummies.columns"
   ]
  },
  {
   "cell_type": "code",
   "execution_count": 38,
   "metadata": {
    "collapsed": false
   },
   "outputs": [
    {
     "data": {
      "text/plain": [
       "Index(['Retired', 'HasPartner', 'HasDependents', 'Education', 'Gender', 'BaseCharges',\n",
       "       'TotalCharges', 'ElectronicBilling', 'HasPhoneService', 'Duration',\n",
       "       'ContractType_Month-to-month', 'ContractType_One year', 'ContractType_Two year',\n",
       "       'PaymentMethod_Bank transfer (automatic)', 'PaymentMethod_Credit card (automatic)',\n",
       "       'PaymentMethod_Electronic check', 'PaymentMethod_Mailed check', 'Multilines_No',\n",
       "       'Multilines_No phone service', 'Multilines_Yes', 'OnlineBackup_No',\n",
       "       'OnlineBackup_No internet service', 'OnlineBackup_Yes', 'InternetServiceCategory_DSL',\n",
       "       'InternetServiceCategory_Fiber optic', 'InternetServiceCategory_No', 'StreamingMovies_No',\n",
       "       'StreamingMovies_No internet service', 'StreamingMovies_Yes', 'OnlineSecurity_No',\n",
       "       'OnlineSecurity_No internet service', 'OnlineSecurity_Yes', 'DeviceProtection_No',\n",
       "       'DeviceProtection_No internet service', 'DeviceProtection_Yes', 'StreamingTelevision_No',\n",
       "       'StreamingTelevision_No internet service', 'StreamingTelevision_Yes', 'TechnicalSupport_No',\n",
       "       'TechnicalSupport_No internet service', 'TechnicalSupport_Yes'],\n",
       "      dtype='object')"
      ]
     },
     "execution_count": 38,
     "metadata": {},
     "output_type": "execute_result"
    }
   ],
   "source": [
    "telco_dummies.columns"
   ]
  },
  {
   "cell_type": "code",
   "execution_count": 39,
   "metadata": {
    "collapsed": true
   },
   "outputs": [],
   "source": [
    "test_dummies['PaymentMethod_Credit card (automatic)'] = np.zeros_like(test_dummies['PaymentMethod_Bank transfer (automatic)'])"
   ]
  },
  {
   "cell_type": "code",
   "execution_count": 40,
   "metadata": {
    "collapsed": false
   },
   "outputs": [
    {
     "data": {
      "text/plain": [
       "(1769, 41)"
      ]
     },
     "execution_count": 40,
     "metadata": {},
     "output_type": "execute_result"
    }
   ],
   "source": [
    "# now checking \n",
    "test_dummies.shape"
   ]
  },
  {
   "cell_type": "markdown",
   "metadata": {},
   "source": [
    "I have a hunch that a positive correlation exists between Duration and TotalCharges. Since intution suggests that charges accumulate with time. i am going to investigate this assumption by creating a scatter plot and constructing a correlation matrix of both variables of interest"
   ]
  },
  {
   "cell_type": "code",
   "execution_count": 41,
   "metadata": {
    "collapsed": false
   },
   "outputs": [
    {
     "data": {
      "text/plain": [
       "<matplotlib.collections.PathCollection at 0x87a3b30>"
      ]
     },
     "execution_count": 41,
     "metadata": {},
     "output_type": "execute_result"
    },
    {
     "data": {
      "image/png": "[encoded data removed]",
      "text/plain": [
       "<matplotlib.figure.Figure at 0x8a83f10>"
      ]
     },
     "metadata": {},
     "output_type": "display_data"
    }
   ],
   "source": [
    "plt.scatter(telco['Duration'], telco['TotalCharges'])"
   ]
  },
  {
   "cell_type": "code",
   "execution_count": 42,
   "metadata": {
    "collapsed": true
   },
   "outputs": [],
   "source": [
    "suspect = telco.loc[:,['Duration','TotalCharges']]"
   ]
  },
  {
   "cell_type": "code",
   "execution_count": 43,
   "metadata": {
    "collapsed": false
   },
   "outputs": [
    {
     "name": "stdout",
     "output_type": "stream",
     "text": [
      "              Duration  TotalCharges\n",
      "Duration         1.000         0.818\n",
      "TotalCharges     0.818         1.000\n"
     ]
    }
   ],
   "source": [
    "print(suspect.corr(method='pearson'))"
   ]
  },
  {
   "cell_type": "markdown",
   "metadata": {},
   "source": [
    "Aha! I was right. now, i can safely drop one to prevent multicollinearity issues"
   ]
  },
  {
   "cell_type": "code",
   "execution_count": 44,
   "metadata": {
    "collapsed": true
   },
   "outputs": [],
   "source": [
    "data = [telco_dummies, test_dummies]\n",
    "for dataset in data:\n",
    "    dataset.drop('Duration', axis=1, inplace=True)"
   ]
  },
  {
   "cell_type": "code",
   "execution_count": 45,
   "metadata": {
    "collapsed": false
   },
   "outputs": [
    {
     "name": "stdout",
     "output_type": "stream",
     "text": [
      "telco: (5298, 40), test (1769, 40)\n"
     ]
    }
   ],
   "source": [
    "# Another sanity check\n",
    "print('telco: {0}, test {1}'.format(telco_dummies.shape, test_dummies.shape))"
   ]
  },
  {
   "cell_type": "markdown",
   "metadata": {},
   "source": [
    "#### Spliting into train (80%) and validation set(20%)"
   ]
  },
  {
   "cell_type": "code",
   "execution_count": 47,
   "metadata": {
    "collapsed": true
   },
   "outputs": [],
   "source": [
    "X = telco_dummies.values\n",
    "y = churn.values\n",
    "X_train, X_validation, y_train, y_validation = train_test_split(X, y, test_size=.20, random_state=0)"
   ]
  },
  {
   "cell_type": "markdown",
   "metadata": {},
   "source": [
    "#### Handling class imbalance"
   ]
  },
  {
   "cell_type": "code",
   "execution_count": 48,
   "metadata": {
    "collapsed": false
   },
   "outputs": [
    {
     "name": "stdout",
     "output_type": "stream",
     "text": [
      "[(0, 1683), (1, 2663)]\n"
     ]
    }
   ],
   "source": [
    "# Handling Target class imbalance by combination of over-sampling and under-sampling using the imbalance-learn SMOTEENN module\n",
    "from collections import Counter\n",
    "from imblearn.combine import SMOTEENN\n",
    "smote_enn = SMOTEENN(random_state=0)\n",
    "X_resampled, y_resampled = smote_enn.fit_sample(X_train, y_train)\n",
    "print(sorted(Counter(y_resampled).items()))"
   ]
  },
  {
   "cell_type": "markdown",
   "metadata": {},
   "source": [
    "#### instantiating number of folds for cross validation, random seed and scoring metric"
   ]
  },
  {
   "cell_type": "code",
   "execution_count": 51,
   "metadata": {
    "collapsed": true
   },
   "outputs": [],
   "source": [
    "num_folds= 10\n",
    "seed = 0\n",
    "scoring = 'accuracy'"
   ]
  },
  {
   "cell_type": "markdown",
   "metadata": {},
   "source": [
    "### Machine Learning Brawl"
   ]
  },
  {
   "cell_type": "markdown",
   "metadata": {},
   "source": [
    "#### Building pipelines for scaling and model instantiation"
   ]
  },
  {
   "cell_type": "code",
   "execution_count": 49,
   "metadata": {
    "collapsed": true
   },
   "outputs": [],
   "source": [
    "pipelines = []\n",
    "pipelines.append(('ScaledLR', Pipeline([('Scaler', StandardScaler()),('LR', LogisticRegression())])))\n",
    "pipelines.append(('ScaledSVM', Pipeline([('scaler', StandardScaler()),('SVM', SVC())])))\n",
    "pipelines.append(('ScaledKNN', Pipeline([('Scaler', StandardScaler()),('KNN', KNeighborsClassifier())])))\n",
    "pipelines.append(('ScaledCART', Pipeline([('Scaler', StandardScaler()),('CART', DecisionTreeClassifier())])))\n",
    "pipelines.append(('ScaledNB', Pipeline([('Scaler', StandardScaler()),('NB', GaussianNB())])))"
   ]
  },
  {
   "cell_type": "markdown",
   "metadata": {},
   "source": [
    "#### Evaluate Algorithms"
   ]
  },
  {
   "cell_type": "markdown",
   "metadata": {},
   "source": [
    "The algorithms all use default tuning parameters. Let's compare the algorithms. We will display the mean and standard deviation of accuracy for each algorithm as we calculate it and collect the results for use later."
   ]
  },
  {
   "cell_type": "code",
   "execution_count": 52,
   "metadata": {
    "collapsed": false
   },
   "outputs": [
    {
     "name": "stdout",
     "output_type": "stream",
     "text": [
      "ScaledLR:0.9103(0.0335)\n",
      "ScaledSVM:0.9416(0.0412)\n",
      "ScaledKNN:0.9099(0.0889)\n",
      "ScaledCART:0.9273(0.0439)\n",
      "ScaledNB:0.8884(0.0397)\n"
     ]
    }
   ],
   "source": [
    "results = []\n",
    "names = []\n",
    "for name, model in pipelines:\n",
    "    kfold= KFold(n_splits=num_folds, random_state=0)\n",
    "    cv_results = cross_val_score(model,X_resampled, y_resampled, cv=kfold, scoring=scoring)\n",
    "    results.append(cv_results)\n",
    "    names.append(name)\n",
    "    print('{0}:{1:.4f}({2:.4f})'.format(name, cv_results.mean(), cv_results.std()))"
   ]
  },
  {
   "cell_type": "markdown",
   "metadata": {},
   "source": [
    "The results suggest That Logistic Regression, Decision tree and SVM may be worth further study.\n",
    "These are just mean accuracy values. It is always wise to look at the distribution of accuracy values calculated across cross validation folds. We can do that graphically using box and whisker\n",
    "plots"
   ]
  },
  {
   "cell_type": "code",
   "execution_count": 53,
   "metadata": {
    "collapsed": false,
    "scrolled": true
   },
   "outputs": [
    {
     "data": {
      "text/plain": [
       "[Text(0,0,'ScaledLR'),\n",
       " Text(0,0,'ScaledSVM'),\n",
       " Text(0,0,'ScaledKNN'),\n",
       " Text(0,0,'ScaledCART'),\n",
       " Text(0,0,'ScaledNB')]"
      ]
     },
     "execution_count": 53,
     "metadata": {},
     "output_type": "execute_result"
    },
    {
     "data": {
      "image/png": "[encoded data removed]",
      "text/plain": [
       "<matplotlib.figure.Figure at 0x9b9ec50>"
      ]
     },
     "metadata": {},
     "output_type": "display_data"
    }
   ],
   "source": [
    "# visualization of individual performance\n",
    "fig = plt.figure(figsize=(6,6))\n",
    "fig.suptitle('Scaled Algorithm Comparison')\n",
    "ax = fig.add_subplot(111)\n",
    "plt.boxplot(results)\n",
    "ax.set_xticklabels(names)"
   ]
  },
  {
   "cell_type": "markdown",
   "metadata": {},
   "source": [
    "The results show a tight distribution for Logistic Regression which is encouraging, suggesting low variance.\n",
    "The poor results for KNN are surprising. The results suggest digging deeper into the SVM and logistic regression algorithms. It is very likely that coniguration beyond the default may yield even more accurate models."
   ]
  },
  {
   "cell_type": "markdown",
   "metadata": {},
   "source": [
    "### Algorithm Tuning"
   ]
  },
  {
   "cell_type": "markdown",
   "metadata": {},
   "source": [
    "#### Hyper parameter tuning of logistic regression model"
   ]
  },
  {
   "cell_type": "markdown",
   "metadata": {},
   "source": [
    "I start of by tuning the regularization parameter C for LogisticRegressin. The default C value \n",
    "is 1.0. Below i try multiples of 10 between 0.0001 and 1000, covering the default value of 1,0. Each C value\n",
    "is evaluated using 10-fold cross validation on the training standardized dataset.\n",
    "This definately take some time..."
   ]
  },
  {
   "cell_type": "code",
   "execution_count": 54,
   "metadata": {
    "collapsed": false
   },
   "outputs": [
    {
     "name": "stdout",
     "output_type": "stream",
     "text": [
      "Best:0.9121 using {'logisticregression__C': 100}\n"
     ]
    }
   ],
   "source": [
    "from sklearn.pipeline import make_pipeline\n",
    "\n",
    "c_values = [0.0001, 0.001, 0.01, 0.1, 1, 10, 100, 1000]\n",
    "param_grid = {'logisticregression__C':c_values}\n",
    "pipe = make_pipeline(StandardScaler(), LogisticRegression(penalty='l2'))\n",
    "kfold = KFold(n_splits=num_folds, random_state=0)\n",
    "gridLR = GridSearchCV(pipe,param_grid=param_grid,cv=kfold, scoring=scoring)\n",
    "grid_resultsLR = gridLR.fit(X_resampled, y_resampled)\n",
    "print('Best:{0:.4f} using {1}'.format(grid_resultsLR.best_score_, grid_resultsLR.best_params_))"
   ]
  },
  {
   "cell_type": "markdown",
   "metadata": {},
   "source": [
    "The optimal parameter for the logreg model is 100. I will therefore save the model using this parameter value and check its performance on the test set"
   ]
  },
  {
   "cell_type": "code",
   "execution_count": 55,
   "metadata": {
    "collapsed": false
   },
   "outputs": [
    {
     "name": "stdout",
     "output_type": "stream",
     "text": [
      "Accuracy: 0.692452830189\n",
      "\n",
      "Confusion matrix:\n",
      " [[498 286]\n",
      " [ 40 236]]\n",
      "\n",
      "Classification Report:\n",
      "              precision    recall  f1-score   support\n",
      "\n",
      "          0       0.93      0.64      0.75       784\n",
      "          1       0.45      0.86      0.59       276\n",
      "\n",
      "avg / total       0.80      0.69      0.71      1060\n",
      "\n",
      "\n",
      "ROC_AUC: 0.7451382727\n"
     ]
    }
   ],
   "source": [
    "from sklearn.metrics import roc_auc_score\n",
    "scaler = StandardScaler().fit(X_resampled)\n",
    "rescaledX = scaler.transform(X_resampled)\n",
    "logreg_model = LogisticRegression(C=100)\n",
    "logreg_model.fit(rescaledX, y_resampled)\n",
    "rescaledValidationX = scaler.transform(X_validation)\n",
    "predictions =logreg_model.predict(rescaledValidationX)\n",
    "print('Accuracy:',accuracy_score(y_validation, predictions))\n",
    "print()\n",
    "print('Confusion matrix:\\n', confusion_matrix(y_validation, predictions))\n",
    "print()\n",
    "print('Classification Report:\\n', classification_report(y_validation,predictions))\n",
    "print()\n",
    "print('ROC_AUC:', roc_auc_score(y_validation, predictions) )"
   ]
  },
  {
   "cell_type": "markdown",
   "metadata": {},
   "source": [
    "The accuracy on the test set is not very good but what is quite deligtful is that the positive class recall is 0.86 which is quite high. This is a good trade-off as we identified the positive class recall as the metric of choice."
   ]
  },
  {
   "cell_type": "markdown",
   "metadata": {},
   "source": [
    "#### Parameter tuning for SVM"
   ]
  },
  {
   "cell_type": "markdown",
   "metadata": {},
   "source": [
    "Because training SVM is computationally intensive, i have decided to opt for a RandomizedSearchCV instaed of GridSearchCV. GridSearchCV exhaustively considers all parameter combinations, while RandomizedSearchCV can sample a given number of candidates from a parameter space with a specified distribution. This still takes some time..."
   ]
  },
  {
   "cell_type": "code",
   "execution_count": 56,
   "metadata": {
    "collapsed": true
   },
   "outputs": [],
   "source": [
    "from scipy.stats import uniform\n",
    "from sklearn.model_selection import RandomizedSearchCV"
   ]
  },
  {
   "cell_type": "code",
   "execution_count": 57,
   "metadata": {
    "collapsed": false
   },
   "outputs": [
    {
     "name": "stdout",
     "output_type": "stream",
     "text": [
      "0.940865163369\n",
      "0.978618342233\n"
     ]
    }
   ],
   "source": [
    "# Random Search Parameter Tuning\n",
    "param_grid = {'C': uniform()}\n",
    "model = SVC()\n",
    "rsearch = RandomizedSearchCV(estimator=model, param_distributions=param_grid, n_iter=100,\n",
    "random_state=0)\n",
    "rsearch.fit(X_resampled, y_resampled)\n",
    "print(rsearch.best_score_)\n",
    "print(rsearch.best_estimator_.C)"
   ]
  },
  {
   "cell_type": "markdown",
   "metadata": {},
   "source": [
    "At long last! Here we see that the optimal C value is approximately 1. so, i will train an svm model with this value and check its generalization performance"
   ]
  },
  {
   "cell_type": "code",
   "execution_count": 58,
   "metadata": {
    "collapsed": false
   },
   "outputs": [
    {
     "name": "stdout",
     "output_type": "stream",
     "text": [
      "Accuracy: 0.716037735849\n",
      "\n",
      "Confusion matrix:\n",
      " [[531 253]\n",
      " [ 48 228]]\n",
      "\n",
      "Classification Report:\n",
      "              precision    recall  f1-score   support\n",
      "\n",
      "          0       0.92      0.68      0.78       784\n",
      "          1       0.47      0.83      0.60       276\n",
      "\n",
      "avg / total       0.80      0.72      0.73      1060\n",
      "\n",
      "ROC_AUC: 0.751691437445\n"
     ]
    }
   ],
   "source": [
    "scaler = StandardScaler().fit(X_resampled)\n",
    "rescaledX = scaler.transform(X_resampled)\n",
    "svc_model = SVC(probability=True, C = 0.978618342233 )\n",
    "svc_model.fit(rescaledX, y_resampled)\n",
    "rescaledValidationX = scaler.transform(X_validation)\n",
    "predictions = svc_model.predict(rescaledValidationX)\n",
    "print('Accuracy:',accuracy_score(y_validation, predictions))\n",
    "print()\n",
    "print('Confusion matrix:\\n', confusion_matrix(y_validation, predictions))\n",
    "print()\n",
    "print('Classification Report:\\n', classification_report(y_validation,predictions))\n",
    "print('ROC_AUC:', roc_auc_score(y_validation, predictions) )"
   ]
  },
  {
   "cell_type": "markdown",
   "metadata": {},
   "source": [
    "There is similarly lower test set accuracy but another impressive but lower positive class recall. "
   ]
  },
  {
   "cell_type": "markdown",
   "metadata": {},
   "source": [
    "### Ensembles"
   ]
  },
  {
   "cell_type": "markdown",
   "metadata": {},
   "source": [
    "\n",
    "Another way that we can improve the performance of algorithms on this problem is by using ensemble methods. In this section we will evaluate four different ensemble machine learning algorithms, two boosting and two bagging methods:\n",
    "* Boosting Methods: AdaBoost (AB) and Gradient Boosting (GBM).\n",
    "* Bagging Methods: Random Forests (RF) and Extra Trees (ET).\n",
    "\n",
    "We will use the same test harness as before, 10-fold cross validation. No data standardization is used in this case because all four ensemble algorithms are based on decision trees that are less sensitive to data distributions."
   ]
  },
  {
   "cell_type": "code",
   "execution_count": 59,
   "metadata": {
    "collapsed": false
   },
   "outputs": [
    {
     "name": "stdout",
     "output_type": "stream",
     "text": [
      "AB:0.9455(0.0428)\n",
      "GBM:0.9437(0.0504)\n",
      "RF:0.9379(0.0580)\n",
      "ET:0.9444(0.0500)\n"
     ]
    }
   ],
   "source": [
    "ensembles = []\n",
    "ensembles.append(('AB', AdaBoostClassifier()))\n",
    "ensembles.append(('GBM', GradientBoostingClassifier()))\n",
    "ensembles.append(('RF', RandomForestClassifier()))\n",
    "ensembles.append(('ET', ExtraTreesClassifier()))\n",
    "results =[]\n",
    "names =[]\n",
    "for name, model in ensembles:\n",
    "    kfold =KFold(n_splits=num_folds, random_state=0)\n",
    "    cv_results = cross_val_score(model, X_resampled, y_resampled, cv=kfold, scoring='accuracy')\n",
    "    names.append(name)\n",
    "    results.append(cv_results)\n",
    "    print('{0}:{1:.4f}({2:.4f})'.format(name, cv_results.mean(), cv_results.std()))"
   ]
  },
  {
   "cell_type": "code",
   "execution_count": 60,
   "metadata": {
    "collapsed": false
   },
   "outputs": [
    {
     "data": {
      "text/plain": [
       "[Text(0,0,'AB'), Text(0,0,'GBM'), Text(0,0,'RF'), Text(0,0,'ET')]"
      ]
     },
     "execution_count": 60,
     "metadata": {},
     "output_type": "execute_result"
    },
    {
     "data": {
      "image/png": "[encoded data removed]",
      "text/plain": [
       "<matplotlib.figure.Figure at 0xa042f10>"
      ]
     },
     "metadata": {},
     "output_type": "display_data"
    }
   ],
   "source": [
    "fig = plt.figure(figsize=(8,8))\n",
    "fig.suptitle('Scaled Ensemble Algorithm Comparison')\n",
    "ax = fig.add_subplot(111)\n",
    "plt.boxplot(results)\n",
    "ax.set_xticklabels(names)"
   ]
  },
  {
   "cell_type": "markdown",
   "metadata": {},
   "source": [
    "The results suggest GBM and AdaBoost may be worthy of further study, with a strong mean and lower variance"
   ]
  },
  {
   "cell_type": "markdown",
   "metadata": {},
   "source": [
    "#### Parameter tuning for GBM"
   ]
  },
  {
   "cell_type": "code",
   "execution_count": null,
   "metadata": {
    "collapsed": true
   },
   "outputs": [],
   "source": [
    "scaler = StandardScaler().fit(X_resampled)\n",
    "rescaledX = scaler.transform(X_resampled)\n",
    "param_grid = dict(n_estimators=numpy.array([50,100,150,200,250,300,350,400]))\n",
    "GBMmodel = GradientBoostingRegressor(random_state=seed)\n",
    "kfold = KFold(n_splits=num_folds, random_state=seed)\n",
    "grid = GridSearchCV(estimator=model, param_grid=param_grid, scoring=scoring, cv=kfold)\n",
    "grid_result = grid.fit(rescaledX, Y_train)\n",
    "print(\"Best: %f using %s\" % (grid_result.best_score_, grid_result.best_params_))\n",
    "means = grid_result.cv_results_['mean_test_score']\n",
    "stds = grid_result.cv_results_['std_test_score']\n",
    "params = grid_result.cv_results_['params']\n",
    "for mean, stdev, param in zip(means, stds, params):\n",
    "print(\"%f (%f) with: %r\" % (mean, stdev, param))"
   ]
  },
  {
   "cell_type": "markdown",
   "metadata": {},
   "source": [
    "#### Validation performance of GBM"
   ]
  },
  {
   "cell_type": "code",
   "execution_count": 62,
   "metadata": {
    "collapsed": false
   },
   "outputs": [
    {
     "name": "stdout",
     "output_type": "stream",
     "text": [
      "Accuracy: 0.746226415094\n",
      "\n",
      "Confusion matrix:\n",
      " [[580 204]\n",
      " [ 65 211]]\n",
      "\n",
      "Classification Report:\n",
      "              precision    recall  f1-score   support\n",
      "\n",
      "          0       0.90      0.74      0.81       784\n",
      "          1       0.51      0.76      0.61       276\n",
      "\n",
      "avg / total       0.80      0.75      0.76      1060\n",
      "\n",
      "ROC_AUC: 0.752144335995\n"
     ]
    }
   ],
   "source": [
    "scaler = StandardScaler().fit(X_resampled)\n",
    "rescaledX = scaler.transform(X_resampled)\n",
    "gbm_model = GradientBoostingClassifier(n_estimators=350)\n",
    "gbm_model.fit(rescaledX, y_resampled)\n",
    "rescaledValidationX = scaler.transform(X_validation)\n",
    "predictions = gbm_model.predict(rescaledValidationX)\n",
    "print('Accuracy:',accuracy_score(y_validation, predictions))\n",
    "print()\n",
    "print('Confusion matrix:\\n', confusion_matrix(y_validation, predictions))\n",
    "print()\n",
    "print('Classification Report:\\n', classification_report(y_validation,predictions))\n",
    "print('ROC_AUC:', roc_auc_score(y_validation, predictions) )"
   ]
  },
  {
   "cell_type": "markdown",
   "metadata": {},
   "source": [
    "#### Voting Ensemble"
   ]
  },
  {
   "cell_type": "markdown",
   "metadata": {},
   "source": [
    "The idea behind the voting classifier implementation is to combine conceptually different machine learning classifiers\n",
    "and use a majority vote or the average predicted probabilities (soft vote) to predict the class labels. Such a classifier\n",
    "can be useful for a set of equally well performing model in order to balance out their individual weaknesses"
   ]
  },
  {
   "cell_type": "code",
   "execution_count": 65,
   "metadata": {
    "collapsed": false
   },
   "outputs": [
    {
     "name": "stdout",
     "output_type": "stream",
     "text": [
      "Accuracy: 0.731132075472\n",
      "\n",
      "Confusion matrix:\n",
      " [[548 236]\n",
      " [ 49 227]]\n",
      "\n",
      "Classification Report:\n",
      "              precision    recall  f1-score   support\n",
      "\n",
      "          0       0.92      0.70      0.79       784\n",
      "          1       0.49      0.82      0.61       276\n",
      "\n",
      "avg / total       0.81      0.73      0.75      1060\n",
      "\n",
      "ROC_AUC: 0.760721679976\n"
     ]
    }
   ],
   "source": [
    "from sklearn.ensemble import VotingClassifier\n",
    "scaler = StandardScaler().fit(X_resampled)\n",
    "rescaledX = scaler.transform(X_resampled)\n",
    "ensemble = VotingClassifier(estimators=[('lr', logreg_model), ('svc', svc_model), ('gbm', gbm_model)],voting='soft')\n",
    "ensemble.fit(rescaledX, y_resampled)\n",
    "rescaledValidationX = scaler.transform(X_validation)\n",
    "predictions = ensemble.predict(rescaledValidationX)\n",
    "print('Accuracy:',accuracy_score(y_validation, predictions))\n",
    "print()\n",
    "print('Confusion matrix:\\n', confusion_matrix(y_validation, predictions))\n",
    "print()\n",
    "print('Classification Report:\\n', classification_report(y_validation,predictions))\n",
    "print('ROC_AUC:', roc_auc_score(y_validation, predictions) )"
   ]
  },
  {
   "cell_type": "markdown",
   "metadata": {},
   "source": [
    "The Logistic Regression model had the most superior performance for the metric of choice thus, i will save it for deployment"
   ]
  },
  {
   "cell_type": "markdown",
   "metadata": {},
   "source": [
    "### Saving The Model"
   ]
  },
  {
   "cell_type": "markdown",
   "metadata": {},
   "source": [
    "#### Save Model Using joblib"
   ]
  },
  {
   "cell_type": "code",
   "execution_count": 61,
   "metadata": {
    "collapsed": false
   },
   "outputs": [
    {
     "data": {
      "text/plain": [
       "['churn_model.sav']"
      ]
     },
     "execution_count": 61,
     "metadata": {},
     "output_type": "execute_result"
    }
   ],
   "source": [
    "from sklearn.externals.joblib import dump\n",
    "from sklearn.externals.joblib import load\n",
    "# save the model to disk\n",
    "filename = 'models\\churn_model.sav'\n",
    "dump(logreg_model, filename)"
   ]
  },
  {
   "cell_type": "markdown",
   "metadata": {},
   "source": [
    "### Making Submissions"
   ]
  },
  {
   "cell_type": "markdown",
   "metadata": {},
   "source": [
    "#### Deriving prediction probabilities"
   ]
  },
  {
   "cell_type": "code",
   "execution_count": 63,
   "metadata": {
    "collapsed": true
   },
   "outputs": [],
   "source": [
    "np.set_printoptions(suppress=True, precision=3)\n",
    "test_predictions = logreg_model.predict_proba(rescaled)"
   ]
  },
  {
   "cell_type": "code",
   "execution_count": 64,
   "metadata": {
    "collapsed": false
   },
   "outputs": [
    {
     "data": {
      "text/plain": [
       "array([[ 0.946,  0.054],\n",
       "       [ 0.999,  0.001],\n",
       "       [ 0.964,  0.036],\n",
       "       ..., \n",
       "       [ 0.952,  0.048],\n",
       "       [ 0.992,  0.008],\n",
       "       [ 0.994,  0.006]])"
      ]
     },
     "execution_count": 64,
     "metadata": {},
     "output_type": "execute_result"
    }
   ],
   "source": [
    "test_predictions"
   ]
  },
  {
   "cell_type": "markdown",
   "metadata": {},
   "source": [
    "#### Appending prediction probabilities"
   ]
  },
  {
   "cell_type": "code",
   "execution_count": 65,
   "metadata": {
    "collapsed": true
   },
   "outputs": [],
   "source": [
    "not_churn = []\n",
    "churn = []\n",
    "\n",
    "for item in test_predictions:\n",
    "    not_churn.append(item[0])\n",
    "    churn.append(item[1])"
   ]
  },
  {
   "cell_type": "code",
   "execution_count": 85,
   "metadata": {
    "collapsed": true
   },
   "outputs": [],
   "source": [
    "test_df = pd.read_csv('data\\Test.csv')"
   ]
  },
  {
   "cell_type": "code",
   "execution_count": 86,
   "metadata": {
    "collapsed": false
   },
   "outputs": [
    {
     "data": {
      "text/plain": [
       "Index(['CustomerID'], dtype='object')"
      ]
     },
     "execution_count": 86,
     "metadata": {},
     "output_type": "execute_result"
    }
   ],
   "source": [
    "test_df.columns"
   ]
  },
  {
   "cell_type": "code",
   "execution_count": 88,
   "metadata": {
    "collapsed": false
   },
   "outputs": [],
   "source": [
    "submission = pd.DataFrame({\n",
    "        \"CustomerId\": test_df[\"CustomerID\"],\n",
    "        \"prob_not_churn\": not_churn,\n",
    "        \"prob_churn\" : churn\n",
    "    })\n",
    "submission.to_csv('data\\submission.csv', index=False)\n"
   ]
  },
  {
   "cell_type": "code",
   "execution_count": 89,
   "metadata": {
    "collapsed": false
   },
   "outputs": [
    {
     "data": {
      "text/html": [
       "<div>\n",
       "<style>\n",
       "    .dataframe thead tr:only-child th {\n",
       "        text-align: right;\n",
       "    }\n",
       "\n",
       "    .dataframe thead th {\n",
       "        text-align: left;\n",
       "    }\n",
       "\n",
       "    .dataframe tbody tr th {\n",
       "        vertical-align: top;\n",
       "    }\n",
       "</style>\n",
       "<table border=\"1\" class=\"dataframe\">\n",
       "  <thead>\n",
       "    <tr style=\"text-align: right;\">\n",
       "      <th></th>\n",
       "      <th>CustomerId</th>\n",
       "      <th>prob_churn</th>\n",
       "      <th>prob_not_churn</th>\n",
       "    </tr>\n",
       "  </thead>\n",
       "  <tbody>\n",
       "    <tr>\n",
       "      <th>0</th>\n",
       "      <td>Cust11201</td>\n",
       "      <td>0.053</td>\n",
       "      <td>0.947</td>\n",
       "    </tr>\n",
       "    <tr>\n",
       "      <th>1</th>\n",
       "      <td>Cust11202</td>\n",
       "      <td>0.001</td>\n",
       "      <td>0.999</td>\n",
       "    </tr>\n",
       "    <tr>\n",
       "      <th>2</th>\n",
       "      <td>Cust11203</td>\n",
       "      <td>0.036</td>\n",
       "      <td>0.964</td>\n",
       "    </tr>\n",
       "    <tr>\n",
       "      <th>3</th>\n",
       "      <td>Cust11204</td>\n",
       "      <td>0.981</td>\n",
       "      <td>0.019</td>\n",
       "    </tr>\n",
       "    <tr>\n",
       "      <th>4</th>\n",
       "      <td>Cust11205</td>\n",
       "      <td>0.898</td>\n",
       "      <td>0.102</td>\n",
       "    </tr>\n",
       "  </tbody>\n",
       "</table>\n",
       "</div>"
      ],
      "text/plain": [
       "  CustomerId  prob_churn  prob_not_churn\n",
       "0  Cust11201       0.053           0.947\n",
       "1  Cust11202       0.001           0.999\n",
       "2  Cust11203       0.036           0.964\n",
       "3  Cust11204       0.981           0.019\n",
       "4  Cust11205       0.898           0.102"
      ]
     },
     "execution_count": 89,
     "metadata": {},
     "output_type": "execute_result"
    }
   ],
   "source": [
    "submission.head()"
   ]
  },
  {
   "cell_type": "markdown",
   "metadata": {
    "collapsed": true
   },
   "source": [
    "Et Voila! You can see the probability of churning and not churning are now appended to each customerId.\n",
    "Job well done!. This output has been writen to a file 'submission.csv' now in the current directory.\n",
    "\n",
    "Of course there is still room for improvement, like doing a more extensive feature engineering, by comparing and plotting the features against each other and identifying and removing the noisy features. Another thing that can improve the overall result on the kaggle leaderboard would be a more extensive hyperparameter tuning on several machine learning models"
   ]
  }
 ],
 "metadata": {
  "anaconda-cloud": {},
  "kernelspec": {
   "display_name": "Python [default]",
   "language": "python",
   "name": "python3"
  },
  "language_info": {
   "codemirror_mode": {
    "name": "ipython",
    "version": 3
   },
   "file_extension": ".py",
   "mimetype": "text/x-python",
   "name": "python",
   "nbconvert_exporter": "python",
   "pygments_lexer": "ipython3",
   "version": "3.5.2"
  }
 },
 "nbformat": 4,
 "nbformat_minor": 1
}
